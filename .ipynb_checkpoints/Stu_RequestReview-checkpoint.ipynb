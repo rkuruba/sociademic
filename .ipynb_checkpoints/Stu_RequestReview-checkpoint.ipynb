{
 "cells": [
  {
   "cell_type": "code",
   "execution_count": 1,
   "metadata": {},
   "outputs": [],
   "source": [
    "# Dependencies\n",
    "import json\n",
    "import requests "
   ]
  },
  {
   "cell_type": "code",
   "execution_count": 2,
   "metadata": {},
   "outputs": [
    {
     "name": "stdout",
     "output_type": "stream",
     "text": [
      "{\"data\":{\"distinct_hashtags_count\":45,\"hashtags\":[{\"hashtag\":\"#covid19\",\"relevance\":100},{\"hashtag\":\"#coronavirus\",\"relevance\":22},{\"hashtag\":\"#aparatbulog\",\"relevance\":14},{\"hashtag\":\"#stayhome\",\"relevance\":9},{\"hashtag\":\"#corona\",\"relevance\":8},{\"hashtag\":\"#covid19\",\"relevance\":8},{\"hashtag\":\"#dirumahaja\",\"relevance\":8},{\"hashtag\":\"#stayathome\",\"relevance\":8},{\"hashtag\":\"#coronavirus\",\"relevance\":8},{\"hashtag\":\"#pandemia\",\"relevance\":6},{\"hashtag\":\"#quarantine\",\"relevance\":6},{\"hashtag\":\"#virus\",\"relevance\":6},{\"hashtag\":\"#instagram\",\"relevance\":6},{\"hashtag\":\"#jajaranbulog\",\"relevance\":4},{\"hashtag\":\"#perumbulog\",\"relevance\":4},{\"hashtag\":\"#fiqueemcasa\",\"relevance\":4},{\"hashtag\":\"#sobatbulog\",\"relevance\":4},{\"hashtag\":\"#aparatbulog dan\",\"relevance\":4},{\"hashtag\":\"#quedateencasa\",\"relevance\":4},{\"hashtag\":\"#goi\",\"relevance\":4},{\"hashtag\":\"#quarentena\",\"relevance\":4},{\"hashtag\":\"#sa\",\"relevance\":4},{\"hashtag\":\"#quarantinelife\",\"relevance\":4},{\"hashtag\":\"#covid\",\"relevance\":4},{\"hashtag\":\"#covid19\",\"relevance\":4},{\"hashtag\":\"#cuarentena\",\"relevance\":3},{\"hashtag\":\"#stayhealthy\",\"relevance\":3},{\"hashtag\":\"#followforfollowback\",\"relevance\":3},{\"hashtag\":\"#likeforfollow\",\"relevance\":3},{\"hashtag\":\"#embuscadasaudefutura\",\"relevance\":3},{\"hashtag\":\"#comic\",\"relevance\":3},{\"hashtag\":\"#siguemeytesigo\",\"relevance\":3},{\"hashtag\":\"#siguemeytesigodevuelta\",\"relevance\":3},{\"hashtag\":\"#instalike\",\"relevance\":3},{\"hashtag\":\"#diabetes\",\"relevance\":3},{\"hashtag\":\"#isolation\",\"relevance\":3},{\"hashtag\":\"#homeschooling\",\"relevance\":3},{\"hashtag\":\"#instaart\",\"relevance\":3},{\"hashtag\":\"#quarentine\",\"relevance\":3},{\"hashtag\":\"#quedateencasa\",\"relevance\":3},{\"hashtag\":\"#illustration\",\"relevance\":3},{\"hashtag\":\"#art\",\"relevance\":3},{\"hashtag\":\"#architecture\",\"relevance\":3},{\"hashtag\":\"#likeforlikeback\",\"relevance\":3},{\"hashtag\":\"#instagood\",\"relevance\":3}]},\"status\":\"ok\",\"status_message\":\"Query was successful\",\"@meta\":{\"api_version\":\"v1\",\"execution_time\":\"0ms\",\"cache_hit\":true}}\n"
     ]
    }
   ],
   "source": [
    "# Specify the URL\n",
    "url = \"https://hashtagy-generate-hashtags.p.rapidapi.com/v1/insta/tags\"\n",
    "\n",
    "querystring = {\"keyword\":\"COVID-19\"}\n",
    "\n",
    "\n",
    "headers = {\n",
    "    'x-rapidapi-host': \"hashtagy-generate-hashtags.p.rapidapi.com\",\n",
    "    'x-rapidapi-key': \"8ae10685d1mshf144aadd2edb31cp129794jsn9bf23b7bc72e\"\n",
    "    }\n",
    "\n",
    "response = requests.request(\"GET\", url, headers=headers, params=querystring)\n",
    "\n",
    "print(response.text)\n",
    "\n"
   ]
  },
  {
   "cell_type": "code",
   "execution_count": null,
   "metadata": {},
   "outputs": [],
   "source": [
    "# # Make request and store response\n",
    "# response = requests.get(url)\n",
    "\n",
    "# # Print status code\n",
    "# print(response.status_code)"
   ]
  },
  {
   "cell_type": "code",
   "execution_count": 3,
   "metadata": {},
   "outputs": [],
   "source": [
    "# JSON-ify response\n",
    "response_json = response.json()"
   ]
  },
  {
   "cell_type": "code",
   "execution_count": 4,
   "metadata": {
    "scrolled": true
   },
   "outputs": [
    {
     "name": "stdout",
     "output_type": "stream",
     "text": [
      "The first response is {\n",
      "  \"saved\": false,\n",
      "  \"_id\": \"5e8e2fb53116400015a250ad\",\n",
      "  \"headline\": \"\\u2018That Is What We Do\\u2019: The Power of Passover and Tradition Across GenerationsIs My Takeout Risking Lives or Saving Restaurants?31% Can\\u2019t Pay the Rent: \\u2018It\\u2019s Only Going to Get Worse\\u2019\",\n",
      "  \"summary\": \"Jewish families on Wednesday will again recount the 10 plagues from the Book of Exodus. Only this year will be a little different.Online orders and no-contact pickup can be an economic lifeline, but someone still has to make the food.As the economic shutdown pares tenants\\u2019 incomes, April payments have been reduced, deferred or withheld. Some landlords see their property at risk.\",\n",
      "  \"url\": \"https://www.nytimes.com/2020/04/08/us/passover-seder-plagues-coronavirus.html\",\n",
      "  \"date\": \"2020-04-08T20:10:29.717Z\",\n",
      "  \"__v\": 0\n",
      "}.\n",
      "The last response is {\n",
      "  \"saved\": false,\n",
      "  \"_id\": \"5e8e2fb53116400015a250a6\",\n",
      "  \"headline\": \"Bernie Sanders Drops Out of 2020 Democratic Race for PresidentSanders Suspends Campaign: \\u2018I Do Not Make This Decision Lightly\\u2019\",\n",
      "  \"summary\": \"transcriptI wish I could give you better news. But I think you know the truth. And that is that we are now some 300 delegates behind Vice President Biden, and the path toward victory is virtually impossible. So while we are winning the ideological battle, and while we are winning the support of so many young people and working people throughout the country, I have concluded that this battle for the Democratic nomination will not be successful. And so today, I am announcing the suspension of my campaign. Please know that I do not make this decision lightly. In fact, it has been a very difficult and painful decision. In this most desperate hour, I cannot in good conscience continue to mount a campaign that cannot win, and which would interfere with the important work required of all of us in this difficult hour. While this campaign is coming to an end, our movement is not. Dr. Martin Luther King Jr. reminded us that, \\u201cThe arc of the moral universe is long, but it bends toward justice.\\u201d The fight for justice is what our campaign has been about, the fight for justice is what our movement remains about.\",\n",
      "  \"url\": \"https://www.nytimes.com/2020/04/08/us/politics/bernie-sanders-drops-out.html\",\n",
      "  \"date\": \"2020-04-08T20:10:29.715Z\",\n",
      "  \"__v\": 0\n",
      "}.\n"
     ]
    }
   ],
   "source": [
    "# Print first and last articles\n",
    "print(f\"The first response is {json.dumps(response_json[0], indent=2)}.\")\n",
    "print(f\"The last response is {json.dumps(response_json[-1], indent=2)}.\")"
   ]
  },
  {
   "cell_type": "code",
   "execution_count": 5,
   "metadata": {},
   "outputs": [
    {
     "name": "stdout",
     "output_type": "stream",
     "text": [
      "We received 8 responses.\n"
     ]
    }
   ],
   "source": [
    "print(f\"We received {len(response_json)} responses.\")"
   ]
  },
  {
   "cell_type": "code",
   "execution_count": null,
   "metadata": {},
   "outputs": [],
   "source": []
  }
 ],
 "metadata": {
  "kernelspec": {
   "display_name": "Python 3",
   "language": "python",
   "name": "python3"
  },
  "language_info": {
   "codemirror_mode": {
    "name": "ipython",
    "version": 3
   },
   "file_extension": ".py",
   "mimetype": "text/x-python",
   "name": "python",
   "nbconvert_exporter": "python",
   "pygments_lexer": "ipython3",
   "version": "3.7.7"
  },
  "varInspector": {
   "cols": {
    "lenName": 16,
    "lenType": 16,
    "lenVar": 40
   },
   "kernels_config": {
    "python": {
     "delete_cmd_postfix": "",
     "delete_cmd_prefix": "del ",
     "library": "var_list.py",
     "varRefreshCmd": "print(var_dic_list())"
    },
    "r": {
     "delete_cmd_postfix": ") ",
     "delete_cmd_prefix": "rm(",
     "library": "var_list.r",
     "varRefreshCmd": "cat(var_dic_list()) "
    }
   },
   "types_to_exclude": [
    "module",
    "function",
    "builtin_function_or_method",
    "instance",
    "_Feature"
   ],
   "window_display": false
  }
 },
 "nbformat": 4,
 "nbformat_minor": 2
}
